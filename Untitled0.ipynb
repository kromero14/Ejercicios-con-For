{
  "nbformat": 4,
  "nbformat_minor": 0,
  "metadata": {
    "colab": {
      "provenance": [],
      "authorship_tag": "ABX9TyM81G221hZmyxMfgflRrCSd",
      "include_colab_link": true
    },
    "kernelspec": {
      "name": "python3",
      "display_name": "Python 3"
    },
    "language_info": {
      "name": "python"
    }
  },
  "cells": [
    {
      "cell_type": "markdown",
      "metadata": {
        "id": "view-in-github",
        "colab_type": "text"
      },
      "source": [
        "<a href=\"https://colab.research.google.com/github/kromero14/Ejercicios-con-For/blob/main/Untitled0.ipynb\" target=\"_parent\"><img src=\"https://colab.research.google.com/assets/colab-badge.svg\" alt=\"Open In Colab\"/></a>"
      ]
    },
    {
      "cell_type": "code",
      "source": [
        "print(\"Bienvenidos a google colaboratory\")\n",
        "\n",
        "# Ejercicio No.1 mostrar la suma de los primeros 10 numeros naturales\n",
        "\n",
        "# input\n",
        "\n",
        "# processing\n",
        "suma=0\n",
        "serie= list(range(1,11))\n",
        "for i in range(1,11):\n",
        "  suma=suma + i\n",
        "\n",
        "#output\n",
        "print(\"La suma es: \" + str(suma))\n",
        "print(serie)"
      ],
      "metadata": {
        "id": "hQhXFI0LUA1b",
        "colab": {
          "base_uri": "https://localhost:8080/"
        },
        "outputId": "c3123560-5d2f-4612-e92f-00841e87c9ee"
      },
      "execution_count": 18,
      "outputs": [
        {
          "output_type": "stream",
          "name": "stdout",
          "text": [
            "Bienvenidos a google colaboratory\n",
            "La suma es: 55\n",
            "[1, 2, 3, 4, 5, 6, 7, 8, 9, 10]\n"
          ]
        }
      ]
    },
    {
      "cell_type": "code",
      "execution_count": 19,
      "metadata": {
        "colab": {
          "base_uri": "https://localhost:8080/"
        },
        "id": "aUF6U5j9PFuk",
        "outputId": "3992d119-ff52-43ef-901f-f86209862c27"
      },
      "outputs": [
        {
          "output_type": "stream",
          "name": "stdout",
          "text": [
            "1\n",
            "2\n",
            "3\n",
            "4\n",
            "5\n",
            "6\n",
            "7\n",
            "8\n",
            "9\n",
            "10\n"
          ]
        }
      ],
      "source": [
        "# Ejercicio N.2 mostrar los numeros del 1 al 10,sin usar instruciones repetitivas\n",
        "\n",
        "print(1)\n",
        "print(2)\n",
        "print(3)\n",
        "print(4)\n",
        "print(5)\n",
        "print(6)\n",
        "print(7)\n",
        "print(8)\n",
        "print(9)\n",
        "print(10)"
      ]
    },
    {
      "cell_type": "code",
      "source": [
        "# Ejercicio No.3 utilizando la instruccion repetitiva while\n",
        "\n",
        "i=1\n",
        "while (i <=10):\n",
        "  print(i)\n",
        "  i= i+1"
      ],
      "metadata": {
        "colab": {
          "base_uri": "https://localhost:8080/"
        },
        "id": "8YuwkPGpPv6K",
        "outputId": "1b7224a7-7b85-40c0-e2e6-ca749f9d7de2"
      },
      "execution_count": 20,
      "outputs": [
        {
          "output_type": "stream",
          "name": "stdout",
          "text": [
            "1\n",
            "2\n",
            "3\n",
            "4\n",
            "5\n",
            "6\n",
            "7\n",
            "8\n",
            "9\n",
            "10\n"
          ]
        }
      ]
    },
    {
      "cell_type": "code",
      "source": [
        "# Ejercicio No.4 mostrar los numeros del 1 al 10 usando la funcion for\n",
        "\n",
        "for i in range(1,11):\n",
        "  print(i)"
      ],
      "metadata": {
        "colab": {
          "base_uri": "https://localhost:8080/"
        },
        "id": "U_S_4KffQjCt",
        "outputId": "b6be4eba-a0f1-43e1-f566-ec197c44ad3b"
      },
      "execution_count": 21,
      "outputs": [
        {
          "output_type": "stream",
          "name": "stdout",
          "text": [
            "1\n",
            "2\n",
            "3\n",
            "4\n",
            "5\n",
            "6\n",
            "7\n",
            "8\n",
            "9\n",
            "10\n"
          ]
        }
      ]
    },
    {
      "cell_type": "code",
      "source": [
        "# Ejercicio No.5 mostrar los numeros del 1 al 10 usando la instruccion lista\n",
        "\n",
        "mi_lista= [1,2,3,4,5,6,7,8,9,10]\n",
        "for i in mi_lista:\n",
        "  print(i)"
      ],
      "metadata": {
        "colab": {
          "base_uri": "https://localhost:8080/"
        },
        "id": "9DH15qmqRK0A",
        "outputId": "c24adc55-1302-4f3d-eee7-c1c9198bae68"
      },
      "execution_count": null,
      "outputs": [
        {
          "output_type": "stream",
          "name": "stdout",
          "text": [
            "1\n",
            "2\n",
            "3\n",
            "4\n",
            "5\n",
            "6\n",
            "7\n",
            "8\n",
            "9\n",
            "10\n"
          ]
        }
      ]
    },
    {
      "cell_type": "code",
      "source": [
        "# Ejercicio No.6 mostrar unna frase 10 veces usando la instruccion for y una lista\n",
        "\n",
        "mi_lista= [1,2,3,4,5,6,7,8,9,10]\n",
        "for i in mi_lista:\n",
        "  print(f\"{i} Guanenta 200 años!\")"
      ],
      "metadata": {
        "colab": {
          "base_uri": "https://localhost:8080/"
        },
        "id": "GdKe_w4XULTn",
        "outputId": "687db4c1-7944-4000-f7c5-1f55a7457f63"
      },
      "execution_count": null,
      "outputs": [
        {
          "output_type": "stream",
          "name": "stdout",
          "text": [
            "1 Guanenta 200 años!\n",
            "2 Guanenta 200 años!\n",
            "3 Guanenta 200 años!\n",
            "4 Guanenta 200 años!\n",
            "5 Guanenta 200 años!\n",
            "6 Guanenta 200 años!\n",
            "7 Guanenta 200 años!\n",
            "8 Guanenta 200 años!\n",
            "9 Guanenta 200 años!\n",
            "10 Guanenta 200 años!\n"
          ]
        }
      ]
    },
    {
      "cell_type": "code",
      "source": [
        "# Ejercicio No.7 mostrar la silaba inicial de los dias de la semana,usando for y una lista\n",
        "\n",
        "dias_semana=[\"lu\", \"ma\", \"mi\", \"ju\", \"vi\", \"sa\", \"do\"]\n",
        "for i in dias_semana:\n",
        "  print(i)"
      ],
      "metadata": {
        "colab": {
          "base_uri": "https://localhost:8080/"
        },
        "id": "3YFHPGZhVRk0",
        "outputId": "c2d57d31-ff39-4a17-d190-e030af873d9f"
      },
      "execution_count": null,
      "outputs": [
        {
          "output_type": "stream",
          "name": "stdout",
          "text": [
            "lu\n",
            "ma\n",
            "mi\n",
            "ju\n",
            "vi\n",
            "sa\n",
            "do\n"
          ]
        }
      ]
    },
    {
      "cell_type": "code",
      "source": [
        "# Ejercicio No.8 mostrar una lista de distintos tipos de datos usando for\n",
        "\n",
        "mi_listica =[1, 3.14, 9, True, \"santiaguito\", 8, \"Guanenta\"]\n",
        "for i in mi_listica:\n",
        "  print (i)"
      ],
      "metadata": {
        "colab": {
          "base_uri": "https://localhost:8080/"
        },
        "id": "nfN1E2KJV84e",
        "outputId": "ce01c9da-0bbd-43a4-de36-49ccf04f32d1"
      },
      "execution_count": null,
      "outputs": [
        {
          "output_type": "stream",
          "name": "stdout",
          "text": [
            "1\n",
            "3.14\n",
            "9\n",
            "True\n",
            "santiaguito\n",
            "8\n",
            "Guanenta\n"
          ]
        }
      ]
    },
    {
      "cell_type": "code",
      "source": [
        "# Ejercicio No.9 ingresar su nombre y mostrarlo letra por letra,usando for\n",
        "\n",
        "nombre=input (\"Digite su nombre: \")\n",
        "\n",
        "for i in nombre:\n",
        "  print(i)"
      ],
      "metadata": {
        "colab": {
          "base_uri": "https://localhost:8080/"
        },
        "id": "cjsWnLCgXMiF",
        "outputId": "b17cedd3-1ad5-494f-bb0f-0d7fe6c185b3"
      },
      "execution_count": null,
      "outputs": [
        {
          "output_type": "stream",
          "name": "stdout",
          "text": [
            "Digite su nombre: Keiner Santiago\n",
            "K\n",
            "e\n",
            "i\n",
            "n\n",
            "e\n",
            "r\n",
            " \n",
            "S\n",
            "a\n",
            "n\n",
            "t\n",
            "i\n",
            "a\n",
            "g\n",
            "o\n"
          ]
        }
      ]
    },
    {
      "cell_type": "code",
      "source": [
        "# Ejercicio No.10 digitar su nombre mostrarlo letra a letra y la letra E cambiarla por un asterisco usando el comando for\n",
        "\n",
        "nombre=input (\"Digite su nombre: \")\n",
        "\n",
        "for i in nombre:\n",
        "  if i== \"e\" :\n",
        "    print(\"*\")\n",
        "  else:\n",
        "    print(i)"
      ],
      "metadata": {
        "colab": {
          "base_uri": "https://localhost:8080/"
        },
        "id": "4HiLj8scYxMz",
        "outputId": "8473e98e-532d-4584-873b-76753d227d42"
      },
      "execution_count": null,
      "outputs": [
        {
          "output_type": "stream",
          "name": "stdout",
          "text": [
            "Digite su nombre: Keiner Santiago\n",
            "K\n",
            "*\n",
            "i\n",
            "n\n",
            "*\n",
            "r\n",
            " \n",
            "S\n",
            "a\n",
            "n\n",
            "t\n",
            "i\n",
            "a\n",
            "g\n",
            "o\n"
          ]
        }
      ]
    },
    {
      "cell_type": "code",
      "source": [
        "# Ejercicio No.11 digitar su nombre mostrarlo letra a letra en mayuscula usando el comando for\n",
        "\n",
        "nombre=input (\"Digite su nombre: \")\n",
        "\n",
        "for i in nombre:\n",
        "    print(i.upper())"
      ],
      "metadata": {
        "colab": {
          "base_uri": "https://localhost:8080/"
        },
        "id": "jGbkDBpNbG96",
        "outputId": "601321db-62f2-4668-b669-d5dc0abb21f8"
      },
      "execution_count": 22,
      "outputs": [
        {
          "output_type": "stream",
          "name": "stdout",
          "text": [
            "Digite su nombre: keiner santiago\n",
            "K\n",
            "E\n",
            "I\n",
            "N\n",
            "E\n",
            "R\n",
            " \n",
            "S\n",
            "A\n",
            "N\n",
            "T\n",
            "I\n",
            "A\n",
            "G\n",
            "O\n"
          ]
        }
      ]
    },
    {
      "cell_type": "code",
      "source": [
        "# Ejercicio No.12 Dada la siguiente lista de números [20,21,30,41,50,51,20], mostrar en pantalla solo los que no terminan en uno (1).\n",
        "\n",
        "# input\n",
        "\n",
        "numeros = [20, 21, 30, 41, 50, 51, 20]\n",
        "#Processing\n",
        "for i in numeros:\n",
        "    if i % 10 != 1:\n",
        "        print(i)\n"
      ],
      "metadata": {
        "colab": {
          "base_uri": "https://localhost:8080/"
        },
        "id": "J6WvW2DEGQBF",
        "outputId": "272bf5f3-a09a-44dd-e637-fd29b20cd551"
      },
      "execution_count": 30,
      "outputs": [
        {
          "output_type": "stream",
          "name": "stdout",
          "text": [
            "20\n",
            "30\n",
            "50\n",
            "20\n"
          ]
        }
      ]
    },
    {
      "cell_type": "code",
      "source": [
        "# Ejercicio No.13 Mostrar mil veces la palabra \"Programación\"\n",
        "\n",
        "\n",
        "mi_lista= range (1,1001)\n",
        "for i in mi_lista:\n",
        "  print(f\"{i} Programación\")"
      ],
      "metadata": {
        "id": "BwjP-UokINDB"
      },
      "execution_count": null,
      "outputs": []
    },
    {
      "cell_type": "code",
      "source": [
        "# Ejercicio N.14 Del conjunto de cadenas [\"E\", \"F\", \"M\", \"A\"] que corresponde a las iniciales de los 4 primeros meses del año, mostrar el nombre completo de dichos meses.\n",
        "\n",
        "mi_lista=[\"E\", \"F\", \"M\", \"A\"]\n",
        "for i in mi_lista:\n",
        "  if i== \"E\" :\n",
        "    print(\"Enero\")\n",
        "  elif i == \"F\":\n",
        "      print(\"Febrero\")\n",
        "      i == \"M\"\n",
        "      print(\"Marzo\")\n",
        "      i == \"A\"\n",
        "      print(\"Abril\")\n",
        "\n",
        "\n"
      ],
      "metadata": {
        "colab": {
          "base_uri": "https://localhost:8080/"
        },
        "id": "pfUf8C7JKU9d",
        "outputId": "e22eeecf-8923-4012-be3b-4ec3f4e7c4cc"
      },
      "execution_count": 15,
      "outputs": [
        {
          "output_type": "stream",
          "name": "stdout",
          "text": [
            "Enero\n",
            "Febrero\n",
            "Marzo\n",
            "Abril\n"
          ]
        }
      ]
    },
    {
      "cell_type": "code",
      "source": [
        "# Ejercicio No.15 Leer un texto y determinar cuántas veces dicho texto contiene cada una de las vocales en minúscula y mayuscula\n",
        "\n",
        "texto= input(\"digite el texto: \")\n",
        "minuscula=(\"a\", \"e\", \"i\", \"o\", \"u\")\n",
        "mayuscula=(\"A\", \"E\", \"I\", \"O\", \"U\")\n",
        "\n",
        "a=0\n",
        "e=0\n",
        "b=0\n",
        "o=0\n",
        "u=0\n",
        "A=0\n",
        "E=0\n",
        "I=0\n",
        "O=0\n",
        "U=0\n",
        "\n",
        "for i in texto:\n",
        "  if i == \"a\":\n",
        "    a+=1\n",
        "  elif i == \"e\":\n",
        "    e+=1\n",
        "  elif i == \"i\":\n",
        "    b+=1\n",
        "  elif i == \"o\":\n",
        "    o+=1\n",
        "  elif i == \"u\":\n",
        "    u+=1\n",
        "  elif i == \"A\":\n",
        "    A+=1\n",
        "  elif i == \"E\":\n",
        "    E+=1\n",
        "  elif i == \"I\":\n",
        "    I+=1\n",
        "  elif i == \"O\":\n",
        "    O+=1\n",
        "  elif i == \"U\":\n",
        "    U+=1\n",
        "\n",
        "print(\"Hay\",a,\"a\",\" en el texto\")\n",
        "print(\"Hay\",e,\"e\",\"en el texto\")\n",
        "print(\"Hay\",b,\"i\",\"en el texto\")\n",
        "print(\"Hay\",o,\"o\",\"en el texto\")\n",
        "print(\"Hay\",u,\"u\",\"en el texto\")\n",
        "print(\"Hay\",A,\"A\",\"en el texto\")\n",
        "print(\"Hay\",E,\"E\",\"en el texto\")\n",
        "print(\"Hay\",I,\"I\",\"en el texto\")\n",
        "print(\"Hay\",O,\"O\",\"en el texto\")\n",
        "print(\"Hay\",U,\"U\",\"en el texto\")\n",
        "\n",
        "\n"
      ],
      "metadata": {
        "id": "xOEks9VbPd-n"
      },
      "execution_count": null,
      "outputs": []
    },
    {
      "cell_type": "markdown",
      "source": [
        "# INVESTIGACION\n",
        "## Consulte cómo se representa en un diagrama de flujo la instrucción repetitiva for.  Agregue lo consultado en el archivo README del respositorio, o en una celta de texto del cuaderno de Google Colab.\n",
        "\n",
        "# Input\n",
        "\n",
        "El bucle for en un diagrama de flujo se representa con símbolos que indican el inicio y el final del bucle, así como las etapas de inicialización, evaluación de condición, ejecución del cuerpo del bucle y actualización de la variable de control en cada iteración.\n",
        "\n",
        "\n",
        "\n",
        "\n",
        "\n",
        "\n",
        "\n",
        "\n",
        "\n"
      ],
      "metadata": {
        "id": "RuU_9ensP9h2"
      }
    },
    {
      "cell_type": "code",
      "source": [
        "# Ejercicio No.16 Leer 20 números enteros y averiguar cuántos son pares y cuántos son impares.\n",
        "Pares=0\n",
        "Impares=0\n",
        "\n",
        "for i in range (20):\n",
        "  numero = int(input(\"Digite el numero entero: \"))\n",
        "  if numero %2 == 0:\n",
        "    Pares +=1\n",
        "  else:\n",
        "    Impares +=1\n",
        "\n",
        "print(\"Cantidad de Pares:\",Pares)\n",
        "print(\"Cantidad de Impares:\",Impares)"
      ],
      "metadata": {
        "colab": {
          "base_uri": "https://localhost:8080/"
        },
        "id": "zh24fLMqoeN9",
        "outputId": "4b748d1c-7062-47d2-873c-ede28bb76fee"
      },
      "execution_count": 43,
      "outputs": [
        {
          "output_type": "stream",
          "name": "stdout",
          "text": [
            "Diegite el numero entero: 2\n",
            "Diegite el numero entero: 3\n",
            "Diegite el numero entero: 4\n",
            "Diegite el numero entero: 6\n",
            "Diegite el numero entero: 1\n",
            "Diegite el numero entero: 8\n",
            "Diegite el numero entero: 6\n",
            "Diegite el numero entero: 45\n",
            "Diegite el numero entero: 23\n",
            "Diegite el numero entero: 112\n",
            "Diegite el numero entero: 22\n",
            "Diegite el numero entero: 33\n",
            "Diegite el numero entero: 566\n",
            "Diegite el numero entero: 78\n",
            "Diegite el numero entero: 9\n",
            "Diegite el numero entero: 75\n",
            "Diegite el numero entero: 34\n",
            "Diegite el numero entero: 23\n",
            "Diegite el numero entero: 77\n",
            "Diegite el numero entero: 98\n",
            "Cantidad de Pares: 11\n",
            "Cantidad de Impares: 9\n"
          ]
        }
      ]
    },
    {
      "cell_type": "code",
      "source": [
        "# Ejercicio No.17 Programa que averigüe e imprima cuántos múltiplos de 7, y cuántos múltiplos de 9, hay en los números comprendidos entre 1000 y 5000.\n",
        "\n",
        "multiplo_7 = 0\n",
        "multiplo_9 = 0\n",
        "\n",
        "for i in range(1000,5001):\n",
        "   if i % 7 == 0:\n",
        "      multiplo_7 += 1\n",
        "   if i % 9 == 0:\n",
        "      multiplo_9 += 1\n",
        "\n",
        "print(multiplo_7,\"numeros son multiplos de 7\")\n",
        "print(multiplo_9,\"numeros son multiplos de 9\")\n"
      ],
      "metadata": {
        "colab": {
          "base_uri": "https://localhost:8080/"
        },
        "id": "BzvMcsdExMxg",
        "outputId": "e30d87b1-d2a4-4e21-f0ae-12321b303891"
      },
      "execution_count": 44,
      "outputs": [
        {
          "output_type": "stream",
          "name": "stdout",
          "text": [
            "572 son multiplos de 7\n",
            "444 son multiplos de 9\n"
          ]
        }
      ]
    }
  ]
}